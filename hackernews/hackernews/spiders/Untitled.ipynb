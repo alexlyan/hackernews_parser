{
 "cells": [
  {
   "cell_type": "code",
   "execution_count": 46,
   "metadata": {},
   "outputs": [],
   "source": [
    "import json\n",
    "import datetime\n",
    "from datetime import timedelta"
   ]
  },
  {
   "cell_type": "code",
   "execution_count": 2,
   "metadata": {},
   "outputs": [],
   "source": [
    "import pandas as pd"
   ]
  },
  {
   "cell_type": "code",
   "execution_count": 28,
   "metadata": {},
   "outputs": [],
   "source": [
    "df = pd.read_json('/Users/lyanalexandr/OneDrive/Projects/Programming/Python/practice/scrapping/hackernews/hacker.jsonl', lines=True).sort_values(by=['Datetime'], ascending=False).sort_values(by=['Points'], ascending=False)"
   ]
  },
  {
   "cell_type": "code",
   "execution_count": 39,
   "metadata": {},
   "outputs": [],
   "source": [
    "\n",
    "# df.drop_duplicates('Article Header', inplace=True)\n",
    "# df.head(20).sort_values(by=['Points'], ascending=False)\n",
    "df['Datetime'] = df['Datetime'].apply(lambda x: datetime.datetime.strftime(x, '%Y-%m-%d'))"
   ]
  },
  {
   "cell_type": "code",
   "execution_count": 55,
   "metadata": {},
   "outputs": [
    {
     "data": {
      "text/html": [
       "<div>\n",
       "<style scoped>\n",
       "    .dataframe tbody tr th:only-of-type {\n",
       "        vertical-align: middle;\n",
       "    }\n",
       "\n",
       "    .dataframe tbody tr th {\n",
       "        vertical-align: top;\n",
       "    }\n",
       "\n",
       "    .dataframe thead th {\n",
       "        text-align: right;\n",
       "    }\n",
       "</style>\n",
       "<table border=\"1\" class=\"dataframe\">\n",
       "  <thead>\n",
       "    <tr style=\"text-align: right;\">\n",
       "      <th></th>\n",
       "      <th>Datetime</th>\n",
       "      <th>Published</th>\n",
       "      <th>Article Header</th>\n",
       "      <th>Link</th>\n",
       "      <th>Points</th>\n",
       "      <th>Comments</th>\n",
       "    </tr>\n",
       "  </thead>\n",
       "  <tbody>\n",
       "    <tr>\n",
       "      <th>0</th>\n",
       "      <td>2020-06-24</td>\n",
       "      <td>3 hours ago</td>\n",
       "      <td>Bastions on demand in an AWS VPC</td>\n",
       "      <td>https://theconsultingcto.com/posts/bastions-on...</td>\n",
       "      <td>21</td>\n",
       "      <td>15</td>\n",
       "    </tr>\n",
       "    <tr>\n",
       "      <th>1</th>\n",
       "      <td>2020-06-24</td>\n",
       "      <td>11 hours ago</td>\n",
       "      <td>OpenDiablo2</td>\n",
       "      <td>https://github.com/OpenDiablo2/OpenDiablo2</td>\n",
       "      <td>235</td>\n",
       "      <td>93</td>\n",
       "    </tr>\n",
       "    <tr>\n",
       "      <th>2</th>\n",
       "      <td>2020-06-24</td>\n",
       "      <td>7 hours ago</td>\n",
       "      <td>The Team Edits Your Images: Aurora Borealis</td>\n",
       "      <td>https://phillipreeve.net/blog/the-team-edits-y...</td>\n",
       "      <td>22</td>\n",
       "      <td>2</td>\n",
       "    </tr>\n",
       "    <tr>\n",
       "      <th>3</th>\n",
       "      <td>2020-06-24</td>\n",
       "      <td>47 minutes ago</td>\n",
       "      <td>Ad Boycott of Facebook Keeps Growing</td>\n",
       "      <td>https://www.nytimes.com/2020/06/23/business/me...</td>\n",
       "      <td>97</td>\n",
       "      <td>47</td>\n",
       "    </tr>\n",
       "    <tr>\n",
       "      <th>4</th>\n",
       "      <td>2020-06-24</td>\n",
       "      <td>8 hours ago</td>\n",
       "      <td>Show HN: Slingcode live-reloading web IDE to m...</td>\n",
       "      <td>https://slingcode.net/</td>\n",
       "      <td>50</td>\n",
       "      <td>9</td>\n",
       "    </tr>\n",
       "    <tr>\n",
       "      <th>...</th>\n",
       "      <td>...</td>\n",
       "      <td>...</td>\n",
       "      <td>...</td>\n",
       "      <td>...</td>\n",
       "      <td>...</td>\n",
       "      <td>...</td>\n",
       "    </tr>\n",
       "    <tr>\n",
       "      <th>133</th>\n",
       "      <td>2020-06-25</td>\n",
       "      <td>5 hours ago</td>\n",
       "      <td>Wirecard files for insolvency after financial ...</td>\n",
       "      <td>https://www.dw.com/en/wirecard-files-for-insol...</td>\n",
       "      <td>141</td>\n",
       "      <td>119</td>\n",
       "    </tr>\n",
       "    <tr>\n",
       "      <th>134</th>\n",
       "      <td>2020-06-25</td>\n",
       "      <td>7 hours ago</td>\n",
       "      <td>How Zoom works [slides]</td>\n",
       "      <td>https://builtformars.co.uk/how-zoom-works/</td>\n",
       "      <td>151</td>\n",
       "      <td>122</td>\n",
       "    </tr>\n",
       "    <tr>\n",
       "      <th>135</th>\n",
       "      <td>2020-06-25</td>\n",
       "      <td>6 hours ago</td>\n",
       "      <td>DNS Push Notifications</td>\n",
       "      <td>http://www.rfc-editor.org/rfc/rfc8765.txt</td>\n",
       "      <td>155</td>\n",
       "      <td>41</td>\n",
       "    </tr>\n",
       "    <tr>\n",
       "      <th>136</th>\n",
       "      <td>2020-06-25</td>\n",
       "      <td>13 hours ago</td>\n",
       "      <td>Air conditioning's original purpose was to ena...</td>\n",
       "      <td>https://spectrum.ieee.org/green-tech/buildings...</td>\n",
       "      <td>99</td>\n",
       "      <td>179</td>\n",
       "    </tr>\n",
       "    <tr>\n",
       "      <th>137</th>\n",
       "      <td>2020-06-25</td>\n",
       "      <td>1 hour ago</td>\n",
       "      <td>Wired to Care</td>\n",
       "      <td>https://www.the-tls.co.uk/articles/conscience-...</td>\n",
       "      <td>3</td>\n",
       "      <td>0</td>\n",
       "    </tr>\n",
       "  </tbody>\n",
       "</table>\n",
       "<p>138 rows × 6 columns</p>\n",
       "</div>"
      ],
      "text/plain": [
       "       Datetime       Published  \\\n",
       "0    2020-06-24     3 hours ago   \n",
       "1    2020-06-24    11 hours ago   \n",
       "2    2020-06-24     7 hours ago   \n",
       "3    2020-06-24  47 minutes ago   \n",
       "4    2020-06-24     8 hours ago   \n",
       "..          ...             ...   \n",
       "133  2020-06-25     5 hours ago   \n",
       "134  2020-06-25     7 hours ago   \n",
       "135  2020-06-25     6 hours ago   \n",
       "136  2020-06-25    13 hours ago   \n",
       "137  2020-06-25      1 hour ago   \n",
       "\n",
       "                                        Article Header  \\\n",
       "0                     Bastions on demand in an AWS VPC   \n",
       "1                                          OpenDiablo2   \n",
       "2          The Team Edits Your Images: Aurora Borealis   \n",
       "3                 Ad Boycott of Facebook Keeps Growing   \n",
       "4    Show HN: Slingcode live-reloading web IDE to m...   \n",
       "..                                                 ...   \n",
       "133  Wirecard files for insolvency after financial ...   \n",
       "134                            How Zoom works [slides]   \n",
       "135                             DNS Push Notifications   \n",
       "136  Air conditioning's original purpose was to ena...   \n",
       "137                                      Wired to Care   \n",
       "\n",
       "                                                  Link  Points  Comments  \n",
       "0    https://theconsultingcto.com/posts/bastions-on...      21        15  \n",
       "1           https://github.com/OpenDiablo2/OpenDiablo2     235        93  \n",
       "2    https://phillipreeve.net/blog/the-team-edits-y...      22         2  \n",
       "3    https://www.nytimes.com/2020/06/23/business/me...      97        47  \n",
       "4                               https://slingcode.net/      50         9  \n",
       "..                                                 ...     ...       ...  \n",
       "133  https://www.dw.com/en/wirecard-files-for-insol...     141       119  \n",
       "134         https://builtformars.co.uk/how-zoom-works/     151       122  \n",
       "135          http://www.rfc-editor.org/rfc/rfc8765.txt     155        41  \n",
       "136  https://spectrum.ieee.org/green-tech/buildings...      99       179  \n",
       "137  https://www.the-tls.co.uk/articles/conscience-...       3         0  \n",
       "\n",
       "[138 rows x 6 columns]"
      ]
     },
     "execution_count": 55,
     "metadata": {},
     "output_type": "execute_result"
    }
   ],
   "source": [
    "df[df['Datetime'] >= datetime.datetime.strftime(datetime.datetime.today()-timedelta(days=1), '%Y-%m-%d')].sort_values('Datetime').reset_index(drop=True)"
   ]
  },
  {
   "cell_type": "code",
   "execution_count": 56,
   "metadata": {},
   "outputs": [],
   "source": [
    "# 1.1. Load Json file\n",
    "df = pd.read_json('/Users/lyanalexandr/OneDrive/Projects/Programming/Python/practice/scrapping/hackernews/hacker.jsonl', lines=True).sort_values(by=['Datetime']).sort_values(by=['Points'], ascending=False)\n",
    "# 1.2. Drop duplicates\n",
    "df.drop_duplicates('Article Header', inplace=True)\n",
    "# 1.3. Create name for file\n",
    "# date_file = datetime.datetime.today().strftime('%Y-%m-%d')\n",
    "# 1.4. CSV or HTML?\n",
    "# df.to_csv(f'{date_file}.csv')"
   ]
  },
  {
   "cell_type": "code",
   "execution_count": null,
   "metadata": {},
   "outputs": [],
   "source": [
    "d"
   ]
  },
  {
   "cell_type": "code",
   "execution_count": 8,
   "metadata": {},
   "outputs": [],
   "source": [
    "df.drop_duplicates('Article Header', inplace=True)"
   ]
  },
  {
   "cell_type": "code",
   "execution_count": 71,
   "metadata": {},
   "outputs": [],
   "source": [
    "from subprocess import check_output"
   ]
  },
  {
   "cell_type": "code",
   "execution_count": 83,
   "metadata": {},
   "outputs": [
    {
     "name": "stdout",
     "output_type": "stream",
     "text": [
      "hacker.json\n",
      "hackernews\n",
      "scrapy.cfg\n",
      " \n",
      "\n"
     ]
    }
   ],
   "source": [
    "print(check_output(['ls', '/Users/lyanalexandr/OneDrive/Projects/Programming/Python/practice/scrapping/hackernews']).decode('utf-8'), '\\n')"
   ]
  }
 ],
 "metadata": {
  "kernelspec": {
   "display_name": "Python 3.8.0 64-bit",
   "language": "python",
   "name": "python38064bita3e2b9284fe241009277b40c2dcf841c"
  },
  "language_info": {
   "codemirror_mode": {
    "name": "ipython",
    "version": 3
   },
   "file_extension": ".py",
   "mimetype": "text/x-python",
   "name": "python",
   "nbconvert_exporter": "python",
   "pygments_lexer": "ipython3",
   "version": "3.8.0"
  }
 },
 "nbformat": 4,
 "nbformat_minor": 4
}
